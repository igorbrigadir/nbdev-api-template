{
 "cells": [
  {
   "cell_type": "markdown",
   "metadata": {},
   "source": [
    "# [WIP] nbdev-api-template\n",
    "\n",
    "Draft Template Repository for using NBDev to deploy a REST API. Work in progress.\n",
    "\n",
    "Builds a docker container ready for deployment.\n",
    "\n",
    "## Based on\n",
    "\n",
    "https://github.com/fastai/nbdev_template\n",
    "\n",
    "https://github.com/karlhigley/py-pkg-template\n",
    "\n",
    "https://github.com/tiangolo/uvicorn-gunicorn-fastapi-docker\n",
    "\n",
    "https://github.com/nsidnev/fastapi-realworld-example-app\n",
    "\n",
    "## Install\n",
    "\n",
    "Install pyenv\n",
    "\n",
    "```\n",
    "curl https://pyenv.run | bash\n",
    "```\n",
    "\n",
    "Install Poetry\n",
    "\n",
    "```\n",
    "curl -sSL https://raw.githubusercontent.com/python-poetry/poetry/master/get-poetry.py | python -\n",
    "```\n",
    "\n",
    "Install Dev Dependencies\n",
    "\n",
    "```\n",
    "poetry update\n",
    "```"
   ]
  },
  {
   "cell_type": "markdown",
   "metadata": {},
   "source": []
  }
 ],
 "metadata": {
  "kernelspec": {
   "display_name": "Python 3",
   "language": "python",
   "name": "python3"
  },
  "language_info": {
   "codemirror_mode": {
    "name": "ipython",
    "version": 3
   },
   "file_extension": ".py",
   "mimetype": "text/x-python",
   "name": "python",
   "nbconvert_exporter": "python",
   "pygments_lexer": "ipython3",
   "version": "3.7.4"
  },
  "varInspector": {
   "cols": {
    "lenName": 16,
    "lenType": 16,
    "lenVar": 40
   },
   "kernels_config": {
    "python": {
     "delete_cmd_postfix": "",
     "delete_cmd_prefix": "del ",
     "library": "var_list.py",
     "varRefreshCmd": "print(var_dic_list())"
    },
    "r": {
     "delete_cmd_postfix": ") ",
     "delete_cmd_prefix": "rm(",
     "library": "var_list.r",
     "varRefreshCmd": "cat(var_dic_list()) "
    }
   },
   "types_to_exclude": [
    "module",
    "function",
    "builtin_function_or_method",
    "instance",
    "_Feature"
   ],
   "window_display": false
  }
 },
 "nbformat": 4,
 "nbformat_minor": 5
}
