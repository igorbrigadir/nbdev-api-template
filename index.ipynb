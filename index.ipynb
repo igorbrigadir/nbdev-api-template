{
 "cells": [
  {
   "cell_type": "markdown",
   "id": "scientific-advertising",
   "metadata": {},
   "source": [
    "# [WIP] nbdev-api-template\n",
    "\n",
    "Draft Template Repository for using NBDev to deploy a REST API. Work in progress.\n",
    "\n",
    "Builds a docker container ready for deployment.\n",
    "\n",
    "## Based on\n",
    "\n",
    "https://github.com/fastai/nbdev_template\n",
    "\n",
    "https://github.com/karlhigley/py-pkg-template\n",
    "\n",
    "https://github.com/tiangolo/uvicorn-gunicorn-fastapi-docker\n",
    "\n",
    "https://github.com/nsidnev/fastapi-realworld-example-app\n",
    "\n",
    "## Install\n",
    "\n",
    "Install pyenv\n",
    "\n",
    "```\n",
    "curl https://pyenv.run | bash\n",
    "```\n",
    "\n",
    "Install Poetry\n",
    "\n",
    "```\n",
    "curl -sSL https://raw.githubusercontent.com/python-poetry/poetry/master/get-poetry.py | python -\n",
    "```\n"
   ]
  }
 ],
 "metadata": {
  "kernelspec": {
   "display_name": "Python 3",
   "language": "python",
   "name": "python3"
  }
 },
 "nbformat": 4,
 "nbformat_minor": 5
}
